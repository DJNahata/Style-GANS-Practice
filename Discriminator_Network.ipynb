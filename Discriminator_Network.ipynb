{
  "nbformat": 4,
  "nbformat_minor": 0,
  "metadata": {
    "colab": {
      "name": "Discriminator Network.ipynb",
      "provenance": [],
      "collapsed_sections": [],
      "authorship_tag": "ABX9TyNflK64tREDFYWCd0Dq129A",
      "include_colab_link": true
    },
    "kernelspec": {
      "name": "python3",
      "display_name": "Python 3"
    },
    "accelerator": "GPU"
  },
  "cells": [
    {
      "cell_type": "markdown",
      "metadata": {
        "id": "view-in-github",
        "colab_type": "text"
      },
      "source": [
        "<a href=\"https://colab.research.google.com/github/DJNahata/Style-GANS-Practice/blob/master/Discriminator_Network.ipynb\" target=\"_parent\"><img src=\"https://colab.research.google.com/assets/colab-badge.svg\" alt=\"Open In Colab\"/></a>"
      ]
    },
    {
      "cell_type": "code",
      "metadata": {
        "id": "XKra2_QPrpy6",
        "colab_type": "code",
        "outputId": "67b6b3db-a254-48fa-9b4d-680ec06a836a",
        "colab": {
          "base_uri": "https://localhost:8080/",
          "height": 138
        }
      },
      "source": [
        "%tensorflow_version 1.x\n",
        "from google.colab import drive\n",
        "drive.mount('/content/drive/', force_remount = True)"
      ],
      "execution_count": 0,
      "outputs": [
        {
          "output_type": "stream",
          "text": [
            "TensorFlow 1.x selected.\n",
            "Go to this URL in a browser: https://accounts.google.com/o/oauth2/auth?client_id=947318989803-6bn6qk8qdgf4n4g3pfee6491hc0brc4i.apps.googleusercontent.com&redirect_uri=urn%3aietf%3awg%3aoauth%3a2.0%3aoob&response_type=code&scope=email%20https%3a%2f%2fwww.googleapis.com%2fauth%2fdocs.test%20https%3a%2f%2fwww.googleapis.com%2fauth%2fdrive%20https%3a%2f%2fwww.googleapis.com%2fauth%2fdrive.photos.readonly%20https%3a%2f%2fwww.googleapis.com%2fauth%2fpeopleapi.readonly\n",
            "\n",
            "Enter your authorization code:\n",
            "··········\n",
            "Mounted at /content/drive/\n"
          ],
          "name": "stdout"
        }
      ]
    },
    {
      "cell_type": "code",
      "metadata": {
        "id": "iGeEswGIsHLg",
        "colab_type": "code",
        "outputId": "086b4055-7984-4c2e-a329-bc413fc596e9",
        "colab": {
          "base_uri": "https://localhost:8080/",
          "height": 84
        }
      },
      "source": [
        "!git clone https://github.com/NVlabs/stylegan.git"
      ],
      "execution_count": 0,
      "outputs": [
        {
          "output_type": "stream",
          "text": [
            "Cloning into 'stylegan'...\n",
            "remote: Enumerating objects: 83, done.\u001b[K\n",
            "remote: Total 83 (delta 0), reused 0 (delta 0), pack-reused 83\u001b[K\n",
            "Unpacking objects: 100% (83/83), done.\n"
          ],
          "name": "stdout"
        }
      ]
    },
    {
      "cell_type": "code",
      "metadata": {
        "id": "bfAHQy09sJIl",
        "colab_type": "code",
        "colab": {}
      },
      "source": [
        "import sys\n",
        "sys.path.insert(0, \"/content/stylegan/\")\n",
        "import dnnlib"
      ],
      "execution_count": 0,
      "outputs": []
    },
    {
      "cell_type": "code",
      "metadata": {
        "id": "ATOR9BKlsLMu",
        "colab_type": "code",
        "outputId": "5b3c1b41-4afa-429a-c541-90ca0006ce3b",
        "colab": {
          "base_uri": "https://localhost:8080/",
          "height": 521
        }
      },
      "source": [
        "import os\n",
        "import pickle\n",
        "import numpy as np\n",
        "import PIL.Image\n",
        "import dnnlib\n",
        "import dnnlib.tflib as tflib\n",
        "import config\n",
        "\n",
        "def main():\n",
        "    # Initialize TensorFlow.\n",
        "    tflib.init_tf()\n",
        "    # Load pre-trained network.\n",
        "\n",
        "    url = 'https://drive.google.com/uc?id=14EVg8pTSwLazQbQbsl8rPTyvbOCMfmnB' # karras2019stylegan-ffhq-1024x1024.pkl\n",
        "    with dnnlib.util.open_url(url, cache_dir=config.cache_dir) as f:\n",
        "        _G, _D, Gs = pickle.load(f)\n",
        "        # _G = Instantaneous snapshot of the generator. Mainly useful for resuming a previous training run.\n",
        "        # _D = Instantaneous snapshot of the discriminator. Mainly useful for resuming a previous training run.\n",
        "        # Gs = Long-term average of the generator. Yields higher-quality results than the instantaneous snapshot.\n",
        "\n",
        "    a4 = Gs.__getstate__()\n",
        "    a5 = _D.__getstate__()\n",
        "    a6 = []\n",
        "    a6.append(a4)\n",
        "    a6.append(Gs)\n",
        "    a6.append(a5)\n",
        "    a6.append(_D)\n",
        "\n",
        "    rnd = np.random.RandomState(5)\n",
        "    latents = rnd.randn(1, Gs.input_shape[1])\n",
        "\n",
        "\n",
        "    fmt = dict(func=tflib.convert_images_to_uint8, nchw_to_nhwc=True)\n",
        "    images = Gs.run(latents, None, truncation_psi=0.7, randomize_noise=True, output_transform=fmt)\n",
        "\n",
        "    # Save image.\n",
        "    os.makedirs(config.result_dir, exist_ok=True)\n",
        "    png_filename = os.path.join(config.result_dir, 'example.png')\n",
        "    PIL.Image.fromarray(images[0], 'RGB').save(png_filename)\n",
        "    return a6\n",
        "\n",
        "if __name__ == \"__main__\":\n",
        "    a11 = main()"
      ],
      "execution_count": 0,
      "outputs": [
        {
          "output_type": "stream",
          "text": [
            "WARNING:tensorflow:From /content/stylegan/dnnlib/tflib/tfutil.py:34: The name tf.Dimension is deprecated. Please use tf.compat.v1.Dimension instead.\n",
            "\n",
            "WARNING:tensorflow:From /content/stylegan/dnnlib/tflib/tfutil.py:74: The name tf.variable_scope is deprecated. Please use tf.compat.v1.variable_scope instead.\n",
            "\n",
            "WARNING:tensorflow:From /content/stylegan/dnnlib/tflib/tfutil.py:128: The name tf.Session is deprecated. Please use tf.compat.v1.Session instead.\n",
            "\n",
            "WARNING:tensorflow:From /content/stylegan/dnnlib/tflib/tfutil.py:97: The name tf.get_default_session is deprecated. Please use tf.compat.v1.get_default_session instead.\n",
            "\n",
            "WARNING:tensorflow:From /content/stylegan/dnnlib/tflib/tfutil.py:109: The name tf.set_random_seed is deprecated. Please use tf.compat.v1.set_random_seed instead.\n",
            "\n",
            "WARNING:tensorflow:From /content/stylegan/dnnlib/tflib/tfutil.py:132: The name tf.ConfigProto is deprecated. Please use tf.compat.v1.ConfigProto instead.\n",
            "\n",
            "Downloading https://drive.google.com/uc?id=14EVg8pTSwLazQbQbsl8rPTyvbOCMfmnB .... done\n",
            "WARNING:tensorflow:From /content/stylegan/dnnlib/tflib/network.py:142: The name tf.get_default_graph is deprecated. Please use tf.compat.v1.get_default_graph instead.\n",
            "\n",
            "WARNING:tensorflow:From /content/stylegan/dnnlib/tflib/network.py:150: The name tf.AUTO_REUSE is deprecated. Please use tf.compat.v1.AUTO_REUSE instead.\n",
            "\n",
            "WARNING:tensorflow:From /content/stylegan/dnnlib/tflib/tfutil.py:76: The name tf.VariableScope is deprecated. Please use tf.compat.v1.VariableScope instead.\n",
            "\n",
            "WARNING:tensorflow:From /content/stylegan/dnnlib/tflib/network.py:151: The name tf.get_variable_scope is deprecated. Please use tf.compat.v1.get_variable_scope instead.\n",
            "\n",
            "WARNING:tensorflow:From /content/stylegan/dnnlib/tflib/network.py:154: The name tf.placeholder is deprecated. Please use tf.compat.v1.placeholder instead.\n",
            "\n",
            "WARNING:tensorflow:From /content/stylegan/dnnlib/tflib/network.py:182: The name tf.global_variables is deprecated. Please use tf.compat.v1.global_variables instead.\n",
            "\n",
            "WARNING:tensorflow:From /content/stylegan/dnnlib/tflib/tfutil.py:200: The name tf.assign is deprecated. Please use tf.compat.v1.assign instead.\n",
            "\n",
            "WARNING:tensorflow:From <string>:364: where (from tensorflow.python.ops.array_ops) is deprecated and will be removed in a future version.\n",
            "Instructions for updating:\n",
            "Use tf.where in 2.0, which has the same broadcast rule as np.where\n"
          ],
          "name": "stdout"
        }
      ]
    },
    {
      "cell_type": "code",
      "metadata": {
        "id": "nRdAmInKsXw4",
        "colab_type": "code",
        "colab": {}
      },
      "source": [
        "# Storing the Discriminator Network in the a2:  \n",
        "\n",
        "a1 = a11[0]\n",
        "ax = a11[1]\n",
        "a2 = a11[2]\n",
        "ax2 = a11[3]"
      ],
      "execution_count": 0,
      "outputs": []
    },
    {
      "cell_type": "code",
      "metadata": {
        "id": "y47Sys4wtvDv",
        "colab_type": "code",
        "colab": {}
      },
      "source": [
        "# Using the Same Input for both the Networks.\n",
        "\n",
        "import pickle\n",
        "with open(\"inpu.txt\", \"rb\") as fp:   \n",
        "   inpu = pickle.load(fp)"
      ],
      "execution_count": 0,
      "outputs": []
    },
    {
      "cell_type": "code",
      "metadata": {
        "id": "XaCuLWXwsf-F",
        "colab_type": "code",
        "outputId": "4090f7c7-0cfd-4129-eacc-a84d31be4f93",
        "colab": {
          "base_uri": "https://localhost:8080/",
          "height": 84
        }
      },
      "source": [
        "# Printing the Inputs: \n",
        "\n",
        "print(inpu[0][0][0][0][0])\n",
        "print(inpu[0][0][0][0][1])\n",
        "print(inpu[0][0][0][0][2])\n",
        "print(inpu[0][0][0][0][3])"
      ],
      "execution_count": 0,
      "outputs": [
        {
          "output_type": "stream",
          "text": [
            "0.16554673\n",
            "0.18761195\n",
            "0.101734936\n",
            "0.28778294\n"
          ],
          "name": "stdout"
        }
      ]
    },
    {
      "cell_type": "code",
      "metadata": {
        "id": "Vf1lam_ouAbm",
        "colab_type": "code",
        "colab": {}
      },
      "source": [
        "# Running the Discriminator: \n",
        "\n",
        "input1 = inpu[0]\n",
        "outputx = ax2.run(input1, None, use_wscale = False)"
      ],
      "execution_count": 0,
      "outputs": []
    },
    {
      "cell_type": "code",
      "metadata": {
        "id": "G7wJtTvlukGu",
        "colab_type": "code",
        "outputId": "e93e0b6a-1b0c-419b-d6ba-59bac4053b8e",
        "colab": {
          "base_uri": "https://localhost:8080/",
          "height": 34
        }
      },
      "source": [
        "# Printing the Output: \n",
        "\n",
        "print(outputx)"
      ],
      "execution_count": 0,
      "outputs": [
        {
          "output_type": "stream",
          "text": [
            "[[-3.3796793e+24]]\n"
          ],
          "name": "stdout"
        }
      ]
    },
    {
      "cell_type": "code",
      "metadata": {
        "id": "O78vu-RbumPW",
        "colab_type": "code",
        "colab": {}
      },
      "source": [
        "# Storing the Weights in the lists. \n",
        "\n",
        "initial_conv_weights1 = []\n",
        "initial_conv_weights2 = []\n",
        "initial_conv_weights3 = []\n",
        "initial_conv_weights4 = []\n",
        "initial_conv_weights5 = []\n",
        "initial_conv_weights6 = []\n",
        "initial_conv_weights7 = []"
      ],
      "execution_count": 0,
      "outputs": []
    },
    {
      "cell_type": "code",
      "metadata": {
        "id": "EVbNet_Lu7O-",
        "colab_type": "code",
        "outputId": "dbee004b-b5cf-44d4-b7f7-c27363c1a76f",
        "colab": {
          "base_uri": "https://localhost:8080/",
          "height": 353
        }
      },
      "source": [
        "# Storing the weights for importing the pre-trained weights.  \n",
        "\n",
        "l = 0\n",
        "for i, j in a2.items():\n",
        "    if(l==6):\n",
        "        print(\" \")\n",
        "        l1 = 0\n",
        "        for i1 in range(1, 7):\n",
        "            print(j[i1][0])\n",
        "            print(j[i1][1].shape)\n",
        "            initial_conv_weights1.append(j[i1][1])\n",
        "            print(\" \")\n",
        "            l1 = l1 + 1\n",
        "        print(\"value of l1 is: \", l1)\n",
        "    l = l + 1"
      ],
      "execution_count": 0,
      "outputs": [
        {
          "output_type": "stream",
          "text": [
            " \n",
            "FromRGB_lod0/weight\n",
            "(1, 1, 3, 64)\n",
            " \n",
            "FromRGB_lod0/bias\n",
            "(64,)\n",
            " \n",
            "256x256/Conv0/weight\n",
            "(3, 3, 64, 64)\n",
            " \n",
            "256x256/Conv0/bias\n",
            "(64,)\n",
            " \n",
            "256x256/Conv1_down/weight\n",
            "(3, 3, 64, 128)\n",
            " \n",
            "256x256/Conv1_down/bias\n",
            "(128,)\n",
            " \n",
            "value of l1 is:  6\n"
          ],
          "name": "stdout"
        }
      ]
    },
    {
      "cell_type": "code",
      "metadata": {
        "id": "TEzJ-IVSvIiW",
        "colab_type": "code",
        "outputId": "e9e6c764-99d9-4c70-9325-9ec600ac284b",
        "colab": {
          "base_uri": "https://localhost:8080/",
          "height": 353
        }
      },
      "source": [
        "l = 0\n",
        "for i, j in a2.items():\n",
        "    if(l==6):\n",
        "        print(\" \")\n",
        "        l1 = 0\n",
        "        for i1 in range(7, 13):\n",
        "            print(j[i1][0])\n",
        "            print(j[i1][1].shape)\n",
        "            initial_conv_weights2.append(j[i1][1])\n",
        "            print(\" \")\n",
        "            l1 = l1 + 1\n",
        "        print(\"value of l1 is: \", l1)\n",
        "    l = l + 1"
      ],
      "execution_count": 0,
      "outputs": [
        {
          "output_type": "stream",
          "text": [
            " \n",
            "FromRGB_lod1/weight\n",
            "(1, 1, 3, 128)\n",
            " \n",
            "FromRGB_lod1/bias\n",
            "(128,)\n",
            " \n",
            "128x128/Conv0/weight\n",
            "(3, 3, 128, 128)\n",
            " \n",
            "128x128/Conv0/bias\n",
            "(128,)\n",
            " \n",
            "128x128/Conv1_down/weight\n",
            "(3, 3, 128, 256)\n",
            " \n",
            "128x128/Conv1_down/bias\n",
            "(256,)\n",
            " \n",
            "value of l1 is:  6\n"
          ],
          "name": "stdout"
        }
      ]
    },
    {
      "cell_type": "code",
      "metadata": {
        "id": "FcHZY7V2ve_y",
        "colab_type": "code",
        "outputId": "6fa1a191-dd6b-4f35-be77-5cfc8fd9e820",
        "colab": {
          "base_uri": "https://localhost:8080/",
          "height": 353
        }
      },
      "source": [
        "l = 0\n",
        "for i, j in a2.items():\n",
        "    if(l==6):\n",
        "        print(\" \")\n",
        "        l1 = 0\n",
        "        for i1 in range(13, 19):\n",
        "            print(j[i1][0])\n",
        "            print(j[i1][1].shape)\n",
        "            initial_conv_weights3.append(j[i1][1])\n",
        "            print(\" \")\n",
        "            l1 = l1 + 1\n",
        "        print(\"value of l1 is: \", l1)\n",
        "    l = l + 1"
      ],
      "execution_count": 0,
      "outputs": [
        {
          "output_type": "stream",
          "text": [
            " \n",
            "FromRGB_lod2/weight\n",
            "(1, 1, 3, 256)\n",
            " \n",
            "FromRGB_lod2/bias\n",
            "(256,)\n",
            " \n",
            "64x64/Conv0/weight\n",
            "(3, 3, 256, 256)\n",
            " \n",
            "64x64/Conv0/bias\n",
            "(256,)\n",
            " \n",
            "64x64/Conv1_down/weight\n",
            "(3, 3, 256, 512)\n",
            " \n",
            "64x64/Conv1_down/bias\n",
            "(512,)\n",
            " \n",
            "value of l1 is:  6\n"
          ],
          "name": "stdout"
        }
      ]
    },
    {
      "cell_type": "code",
      "metadata": {
        "id": "5xhLUzySvhsy",
        "colab_type": "code",
        "outputId": "662d3b54-70a0-4591-dc42-51d668802671",
        "colab": {
          "base_uri": "https://localhost:8080/",
          "height": 353
        }
      },
      "source": [
        "l = 0\n",
        "for i, j in a2.items():\n",
        "    if(l==6):\n",
        "        print(\" \")\n",
        "        l1 = 0\n",
        "        for i1 in range(19, 25):\n",
        "            print(j[i1][0])\n",
        "            print(j[i1][1].shape)\n",
        "            initial_conv_weights4.append(j[i1][1])\n",
        "            print(\" \")\n",
        "            l1 = l1 + 1\n",
        "        print(\"value of l1 is: \", l1)\n",
        "    l = l + 1"
      ],
      "execution_count": 0,
      "outputs": [
        {
          "output_type": "stream",
          "text": [
            " \n",
            "FromRGB_lod3/weight\n",
            "(1, 1, 3, 512)\n",
            " \n",
            "FromRGB_lod3/bias\n",
            "(512,)\n",
            " \n",
            "32x32/Conv0/weight\n",
            "(3, 3, 512, 512)\n",
            " \n",
            "32x32/Conv0/bias\n",
            "(512,)\n",
            " \n",
            "32x32/Conv1_down/weight\n",
            "(3, 3, 512, 512)\n",
            " \n",
            "32x32/Conv1_down/bias\n",
            "(512,)\n",
            " \n",
            "value of l1 is:  6\n"
          ],
          "name": "stdout"
        }
      ]
    },
    {
      "cell_type": "code",
      "metadata": {
        "id": "nyXiDBNRvkLK",
        "colab_type": "code",
        "outputId": "ff73744f-e4ee-4b16-c8f4-485cd3032fa4",
        "colab": {
          "base_uri": "https://localhost:8080/",
          "height": 353
        }
      },
      "source": [
        "l = 0\n",
        "for i, j in a2.items():\n",
        "    if(l==6):\n",
        "        print(\" \")\n",
        "        l1 = 0\n",
        "        for i1 in range(25, 31):\n",
        "            print(j[i1][0])\n",
        "            print(j[i1][1].shape)\n",
        "            initial_conv_weights5.append(j[i1][1])\n",
        "            print(\" \")\n",
        "            l1 = l1 + 1\n",
        "        print(\"value of l1 is: \", l1)\n",
        "    l = l + 1"
      ],
      "execution_count": 0,
      "outputs": [
        {
          "output_type": "stream",
          "text": [
            " \n",
            "FromRGB_lod4/weight\n",
            "(1, 1, 3, 512)\n",
            " \n",
            "FromRGB_lod4/bias\n",
            "(512,)\n",
            " \n",
            "16x16/Conv0/weight\n",
            "(3, 3, 512, 512)\n",
            " \n",
            "16x16/Conv0/bias\n",
            "(512,)\n",
            " \n",
            "16x16/Conv1_down/weight\n",
            "(3, 3, 512, 512)\n",
            " \n",
            "16x16/Conv1_down/bias\n",
            "(512,)\n",
            " \n",
            "value of l1 is:  6\n"
          ],
          "name": "stdout"
        }
      ]
    },
    {
      "cell_type": "code",
      "metadata": {
        "id": "xXOMq6SnvmRy",
        "colab_type": "code",
        "outputId": "318a2d0a-fe5f-4009-9cf7-4296bba414fd",
        "colab": {
          "base_uri": "https://localhost:8080/",
          "height": 353
        }
      },
      "source": [
        "l = 0\n",
        "for i, j in a2.items():\n",
        "    if(l==6):\n",
        "        print(\" \")\n",
        "        l1 = 0\n",
        "        for i1 in range(31, 37):\n",
        "            print(j[i1][0])\n",
        "            print(j[i1][1].shape)\n",
        "            initial_conv_weights6.append(j[i1][1])\n",
        "            print(\" \")\n",
        "            l1 = l1 + 1\n",
        "        print(\"value of l1 is: \", l1)\n",
        "    l = l + 1"
      ],
      "execution_count": 0,
      "outputs": [
        {
          "output_type": "stream",
          "text": [
            " \n",
            "FromRGB_lod5/weight\n",
            "(1, 1, 3, 512)\n",
            " \n",
            "FromRGB_lod5/bias\n",
            "(512,)\n",
            " \n",
            "8x8/Conv0/weight\n",
            "(3, 3, 512, 512)\n",
            " \n",
            "8x8/Conv0/bias\n",
            "(512,)\n",
            " \n",
            "8x8/Conv1_down/weight\n",
            "(3, 3, 512, 512)\n",
            " \n",
            "8x8/Conv1_down/bias\n",
            "(512,)\n",
            " \n",
            "value of l1 is:  6\n"
          ],
          "name": "stdout"
        }
      ]
    },
    {
      "cell_type": "code",
      "metadata": {
        "id": "FWZNV-Cxvogq",
        "colab_type": "code",
        "outputId": "04bb23d4-b30d-4e9f-a7f7-13f320077718",
        "colab": {
          "base_uri": "https://localhost:8080/",
          "height": 454
        }
      },
      "source": [
        "l = 0\n",
        "for i, j in a2.items():\n",
        "    if(l==6):\n",
        "        print(\" \")\n",
        "        l1 = 0\n",
        "        for i1 in range(37, 45):\n",
        "            print(j[i1][0])\n",
        "            print(j[i1][1].shape)\n",
        "            initial_conv_weights7.append(j[i1][1])\n",
        "            print(\" \")\n",
        "            l1 = l1 + 1\n",
        "        print(\"value of l1 is: \", l1)\n",
        "    l = l + 1"
      ],
      "execution_count": 0,
      "outputs": [
        {
          "output_type": "stream",
          "text": [
            " \n",
            "FromRGB_lod6/weight\n",
            "(1, 1, 3, 512)\n",
            " \n",
            "FromRGB_lod6/bias\n",
            "(512,)\n",
            " \n",
            "4x4/Conv/weight\n",
            "(3, 3, 513, 512)\n",
            " \n",
            "4x4/Conv/bias\n",
            "(512,)\n",
            " \n",
            "4x4/Dense0/weight\n",
            "(8192, 512)\n",
            " \n",
            "4x4/Dense0/bias\n",
            "(512,)\n",
            " \n",
            "4x4/Dense1/weight\n",
            "(512, 1)\n",
            " \n",
            "4x4/Dense1/bias\n",
            "(1,)\n",
            " \n",
            "value of l1 is:  8\n"
          ],
          "name": "stdout"
        }
      ]
    },
    {
      "cell_type": "code",
      "metadata": {
        "id": "h9M4P8DQv0sX",
        "colab_type": "code",
        "colab": {}
      },
      "source": [
        "# Importing these weights in the form of Pickle File: \n",
        "\n",
        "with open(\"we1.txt\", \"wb\") as fp:   \n",
        "   pickle.dump(initial_conv_weights1, fp)\n",
        "\n",
        "with open(\"we2.txt\", \"wb\") as fp:   \n",
        "   pickle.dump(initial_conv_weights2, fp)\n",
        "\n",
        "with open(\"we3.txt\", \"wb\") as fp:   \n",
        "   pickle.dump(initial_conv_weights3, fp)\n",
        "\n",
        "with open(\"we4.txt\", \"wb\") as fp:   \n",
        "   pickle.dump(initial_conv_weights4, fp)\n",
        "\n",
        "with open(\"we5.txt\", \"wb\") as fp:   \n",
        "   pickle.dump(initial_conv_weights5, fp)\n",
        "\n",
        "with open(\"we6.txt\", \"wb\") as fp:   \n",
        "   pickle.dump(initial_conv_weights6, fp)\n",
        "\n",
        "with open(\"we7.txt\", \"wb\") as fp:   \n",
        "   pickle.dump(initial_conv_weights7, fp)"
      ],
      "execution_count": 0,
      "outputs": []
    }
  ]
}