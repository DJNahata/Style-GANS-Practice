{
  "nbformat": 4,
  "nbformat_minor": 0,
  "metadata": {
    "colab": {
      "name": "Mapping Network for the Author's Source code.ipynb",
      "provenance": [],
      "collapsed_sections": [],
      "authorship_tag": "ABX9TyMbiK0G5UfQU+tpBBBYW9op",
      "include_colab_link": true
    },
    "kernelspec": {
      "name": "python3",
      "display_name": "Python 3"
    },
    "accelerator": "GPU"
  },
  "cells": [
    {
      "cell_type": "markdown",
      "metadata": {
        "id": "view-in-github",
        "colab_type": "text"
      },
      "source": [
        "<a href=\"https://colab.research.google.com/github/DJNahata/Style-GANS-Practice/blob/master/Mapping_Network_for_the_Author's_Source_code.ipynb\" target=\"_parent\"><img src=\"https://colab.research.google.com/assets/colab-badge.svg\" alt=\"Open In Colab\"/></a>"
      ]
    },
    {
      "cell_type": "code",
      "metadata": {
        "id": "kkTEULZjeuWP",
        "colab_type": "code",
        "outputId": "5fd0e294-f103-479e-c66e-a919353a8242",
        "colab": {
          "base_uri": "https://localhost:8080/",
          "height": 138
        }
      },
      "source": [
        " # Video for this cell. i.e. how to mount the google drive.\n",
        "\n",
        "%tensorflow_version 1.x\n",
        "from google.colab import drive\n",
        "drive.mount('/content/drive/', force_remount = True)"
      ],
      "execution_count": 0,
      "outputs": [
        {
          "output_type": "stream",
          "text": [
            "TensorFlow 1.x selected.\n",
            "Go to this URL in a browser: https://accounts.google.com/o/oauth2/auth?client_id=947318989803-6bn6qk8qdgf4n4g3pfee6491hc0brc4i.apps.googleusercontent.com&redirect_uri=urn%3aietf%3awg%3aoauth%3a2.0%3aoob&response_type=code&scope=email%20https%3a%2f%2fwww.googleapis.com%2fauth%2fdocs.test%20https%3a%2f%2fwww.googleapis.com%2fauth%2fdrive%20https%3a%2f%2fwww.googleapis.com%2fauth%2fdrive.photos.readonly%20https%3a%2f%2fwww.googleapis.com%2fauth%2fpeopleapi.readonly\n",
            "\n",
            "Enter your authorization code:\n",
            "··········\n",
            "Mounted at /content/drive/\n"
          ],
          "name": "stdout"
        }
      ]
    },
    {
      "cell_type": "code",
      "metadata": {
        "id": "9A4QKBGke1SO",
        "colab_type": "code",
        "outputId": "74285ac6-3d23-4a82-d360-3fbf14b55dc1",
        "colab": {
          "base_uri": "https://localhost:8080/",
          "height": 84
        }
      },
      "source": [
        "!git clone https://github.com/NVlabs/stylegan.git"
      ],
      "execution_count": 0,
      "outputs": [
        {
          "output_type": "stream",
          "text": [
            "Cloning into 'stylegan'...\n",
            "remote: Enumerating objects: 83, done.\u001b[K\n",
            "Unpacking objects:   1% (1/83)   \rUnpacking objects:   2% (2/83)   \rUnpacking objects:   3% (3/83)   \rUnpacking objects:   4% (4/83)   \rUnpacking objects:   6% (5/83)   \rUnpacking objects:   7% (6/83)   \rUnpacking objects:   8% (7/83)   \rUnpacking objects:   9% (8/83)   \rUnpacking objects:  10% (9/83)   \rUnpacking objects:  12% (10/83)   \rUnpacking objects:  13% (11/83)   \rUnpacking objects:  14% (12/83)   \rUnpacking objects:  15% (13/83)   \rUnpacking objects:  16% (14/83)   \rUnpacking objects:  18% (15/83)   \rUnpacking objects:  19% (16/83)   \rUnpacking objects:  20% (17/83)   \rUnpacking objects:  21% (18/83)   \rUnpacking objects:  22% (19/83)   \rUnpacking objects:  24% (20/83)   \rUnpacking objects:  25% (21/83)   \rUnpacking objects:  26% (22/83)   \rUnpacking objects:  27% (23/83)   \rUnpacking objects:  28% (24/83)   \rUnpacking objects:  30% (25/83)   \rUnpacking objects:  31% (26/83)   \rUnpacking objects:  32% (27/83)   \rUnpacking objects:  33% (28/83)   \rUnpacking objects:  34% (29/83)   \rUnpacking objects:  36% (30/83)   \rUnpacking objects:  37% (31/83)   \rUnpacking objects:  38% (32/83)   \rUnpacking objects:  39% (33/83)   \rUnpacking objects:  40% (34/83)   \rUnpacking objects:  42% (35/83)   \rUnpacking objects:  43% (36/83)   \rUnpacking objects:  44% (37/83)   \rUnpacking objects:  45% (38/83)   \rUnpacking objects:  46% (39/83)   \rUnpacking objects:  48% (40/83)   \rUnpacking objects:  49% (41/83)   \rUnpacking objects:  50% (42/83)   \rUnpacking objects:  51% (43/83)   \rUnpacking objects:  53% (44/83)   \rUnpacking objects:  54% (45/83)   \rUnpacking objects:  55% (46/83)   \rUnpacking objects:  56% (47/83)   \rUnpacking objects:  57% (48/83)   \rUnpacking objects:  59% (49/83)   \rUnpacking objects:  60% (50/83)   \rUnpacking objects:  61% (51/83)   \rremote: Total 83 (delta 0), reused 0 (delta 0), pack-reused 83\u001b[K\n",
            "Unpacking objects:  62% (52/83)   \rUnpacking objects:  63% (53/83)   \rUnpacking objects:  65% (54/83)   \rUnpacking objects:  66% (55/83)   \rUnpacking objects:  67% (56/83)   \rUnpacking objects:  68% (57/83)   \rUnpacking objects:  69% (58/83)   \rUnpacking objects:  71% (59/83)   \rUnpacking objects:  72% (60/83)   \rUnpacking objects:  73% (61/83)   \rUnpacking objects:  74% (62/83)   \rUnpacking objects:  75% (63/83)   \rUnpacking objects:  77% (64/83)   \rUnpacking objects:  78% (65/83)   \rUnpacking objects:  79% (66/83)   \rUnpacking objects:  80% (67/83)   \rUnpacking objects:  81% (68/83)   \rUnpacking objects:  83% (69/83)   \rUnpacking objects:  84% (70/83)   \rUnpacking objects:  85% (71/83)   \rUnpacking objects:  86% (72/83)   \rUnpacking objects:  87% (73/83)   \rUnpacking objects:  89% (74/83)   \rUnpacking objects:  90% (75/83)   \rUnpacking objects:  91% (76/83)   \rUnpacking objects:  92% (77/83)   \rUnpacking objects:  93% (78/83)   \rUnpacking objects:  95% (79/83)   \rUnpacking objects:  96% (80/83)   \rUnpacking objects:  97% (81/83)   \rUnpacking objects:  98% (82/83)   \rUnpacking objects: 100% (83/83)   \rUnpacking objects: 100% (83/83), done.\n"
          ],
          "name": "stdout"
        }
      ]
    },
    {
      "cell_type": "code",
      "metadata": {
        "id": "tlN_HJdXe2p6",
        "colab_type": "code",
        "colab": {}
      },
      "source": [
        "import sys\n",
        "sys.path.insert(0, \"/content/stylegan/\")\n",
        "import dnnlib"
      ],
      "execution_count": 0,
      "outputs": []
    },
    {
      "cell_type": "code",
      "metadata": {
        "id": "EPUg3ahFe4qT",
        "colab_type": "code",
        "outputId": "55bf063a-a356-49f5-926f-082561989b93",
        "colab": {
          "base_uri": "https://localhost:8080/",
          "height": 554
        }
      },
      "source": [
        "# Video for this cell i.e. how to copy the current url so as to load the pre-trained model. \n",
        "\n",
        "import os\n",
        "import pickle\n",
        "import numpy as np\n",
        "import PIL.Image\n",
        "import dnnlib\n",
        "import dnnlib.tflib as tflib\n",
        "import config\n",
        "\n",
        "def main():\n",
        "    # Initialize TensorFlow.\n",
        "    tflib.init_tf()\n",
        "    # Load pre-trained network.\n",
        "\n",
        "\n",
        "    url = 'https://drive.google.com/uc?id=1W_jzz1uHciEJvkm1SiJlILVsyRorQCFT'    # karras2019stylegan-cat-256x256.pkl\n",
        "    with dnnlib.util.open_url(url, cache_dir=config.cache_dir) as f:\n",
        "        _G, _D, Gs = pickle.load(f)\n",
        "        # _G = Instantaneous snapshot of the generator. Mainly useful for resuming a previous training run.\n",
        "        # _D = Instantaneous snapshot of the discriminator. Mainly useful for resuming a previous training run.\n",
        "        # Gs = Long-term average of the generator. Yields higher-quality results than the instantaneous snapshot.\n",
        "\n",
        "    print(\" \")\n",
        "    print(\"DJ\")\n",
        "    # Print network details.\n",
        "    #Gs.print_layers()\n",
        "\n",
        "    a4 = Gs.__getstate__()\n",
        "    a6 = []\n",
        "    a6.append(a4)\n",
        "    a6.append(Gs)\n",
        "\n",
        "    rnd = np.random.RandomState(5)\n",
        "    latents = rnd.randn(1, Gs.input_shape[1])\n",
        "\n",
        "\n",
        "    fmt = dict(func=tflib.convert_images_to_uint8, nchw_to_nhwc=True)\n",
        "    images = Gs.run(latents, None, truncation_psi=0.7, randomize_noise=True, output_transform=fmt)\n",
        "\n",
        "    # Save image.\n",
        "    os.makedirs(config.result_dir, exist_ok=True)\n",
        "    png_filename = os.path.join(config.result_dir, 'example.png')\n",
        "    PIL.Image.fromarray(images[0], 'RGB').save(png_filename)\n",
        "    return a6\n",
        "\n",
        "if __name__ == \"__main__\":\n",
        "    a11 = main()"
      ],
      "execution_count": 0,
      "outputs": [
        {
          "output_type": "stream",
          "text": [
            "WARNING:tensorflow:From /content/stylegan/dnnlib/tflib/tfutil.py:34: The name tf.Dimension is deprecated. Please use tf.compat.v1.Dimension instead.\n",
            "\n",
            "WARNING:tensorflow:From /content/stylegan/dnnlib/tflib/tfutil.py:74: The name tf.variable_scope is deprecated. Please use tf.compat.v1.variable_scope instead.\n",
            "\n",
            "WARNING:tensorflow:From /content/stylegan/dnnlib/tflib/tfutil.py:128: The name tf.Session is deprecated. Please use tf.compat.v1.Session instead.\n",
            "\n",
            "WARNING:tensorflow:From /content/stylegan/dnnlib/tflib/tfutil.py:97: The name tf.get_default_session is deprecated. Please use tf.compat.v1.get_default_session instead.\n",
            "\n",
            "WARNING:tensorflow:From /content/stylegan/dnnlib/tflib/tfutil.py:109: The name tf.set_random_seed is deprecated. Please use tf.compat.v1.set_random_seed instead.\n",
            "\n",
            "WARNING:tensorflow:From /content/stylegan/dnnlib/tflib/tfutil.py:132: The name tf.ConfigProto is deprecated. Please use tf.compat.v1.ConfigProto instead.\n",
            "\n",
            "Downloading https://drive.google.com/uc?id=1W_jzz1uHciEJvkm1SiJlILVsyRorQCFT .... done\n",
            "WARNING:tensorflow:From /content/stylegan/dnnlib/tflib/network.py:142: The name tf.get_default_graph is deprecated. Please use tf.compat.v1.get_default_graph instead.\n",
            "\n",
            "WARNING:tensorflow:From /content/stylegan/dnnlib/tflib/network.py:150: The name tf.AUTO_REUSE is deprecated. Please use tf.compat.v1.AUTO_REUSE instead.\n",
            "\n",
            "WARNING:tensorflow:From /content/stylegan/dnnlib/tflib/tfutil.py:76: The name tf.VariableScope is deprecated. Please use tf.compat.v1.VariableScope instead.\n",
            "\n",
            "WARNING:tensorflow:From /content/stylegan/dnnlib/tflib/network.py:151: The name tf.get_variable_scope is deprecated. Please use tf.compat.v1.get_variable_scope instead.\n",
            "\n",
            "WARNING:tensorflow:From /content/stylegan/dnnlib/tflib/network.py:154: The name tf.placeholder is deprecated. Please use tf.compat.v1.placeholder instead.\n",
            "\n",
            "WARNING:tensorflow:From /content/stylegan/dnnlib/tflib/network.py:182: The name tf.global_variables is deprecated. Please use tf.compat.v1.global_variables instead.\n",
            "\n",
            "WARNING:tensorflow:From /content/stylegan/dnnlib/tflib/tfutil.py:200: The name tf.assign is deprecated. Please use tf.compat.v1.assign instead.\n",
            "\n",
            "WARNING:tensorflow:From <string>:364: where (from tensorflow.python.ops.array_ops) is deprecated and will be removed in a future version.\n",
            "Instructions for updating:\n",
            "Use tf.where in 2.0, which has the same broadcast rule as np.where\n",
            " \n",
            "DJ\n"
          ],
          "name": "stdout"
        }
      ]
    },
    {
      "cell_type": "code",
      "metadata": {
        "id": "LQ80AsW_e8bz",
        "colab_type": "code",
        "colab": {}
      },
      "source": [
        "a1 = a11[0]\n",
        "ax = a11[1]"
      ],
      "execution_count": 0,
      "outputs": []
    },
    {
      "cell_type": "code",
      "metadata": {
        "id": "1YODyHnHf7DG",
        "colab_type": "code",
        "outputId": "edb28e42-bf1b-417c-de22-46fb689d4ccb",
        "colab": {
          "base_uri": "https://localhost:8080/",
          "height": 67
        }
      },
      "source": [
        "# Extraction of the Synthesis Network and Mapping Network such that \"0\" index consists of Synthesis and \"1\" index consists of Mapping and storing it in the dj1 list.\n",
        "\n",
        "l = 0 \n",
        "dj1 = []   \n",
        "for i, j in a1.items():\n",
        "    if(l==3):\n",
        "        print(i)\n",
        "        print(\" \")\n",
        "        print(j)\n",
        "        for k, m in j.items():\n",
        "            dj1.append(j.get(k)) \n",
        "    l = l + 1"
      ],
      "execution_count": 0,
      "outputs": [
        {
          "output_type": "stream",
          "text": [
            "components\n",
            " \n",
            "{'synthesis': <dnnlib.tflib.network.Network object at 0x7f13292e6f60>, 'mapping': <dnnlib.tflib.network.Network object at 0x7f1328f70ef0>}\n"
          ],
          "name": "stdout"
        }
      ]
    },
    {
      "cell_type": "code",
      "metadata": {
        "id": "59s7i34VgEpN",
        "colab_type": "code",
        "colab": {}
      },
      "source": [
        "l = 0\n",
        "for i in dj1:\n",
        "    if(l==0): \n",
        "        k1 = i.__getstate__()   # __getstate__() function used for extraction of the weights of Synthesis Network\n",
        "    if(l==1):\n",
        "        k2 = i.__getstate__()   # __getstate__() function used for extraction of the weights of Synthesis Network\n",
        "    l = l + 1"
      ],
      "execution_count": 0,
      "outputs": []
    },
    {
      "cell_type": "code",
      "metadata": {
        "id": "bxAPUOB0g61J",
        "colab_type": "code",
        "colab": {}
      },
      "source": [
        "# Storing the Pre-Trained weights in the G_mapping_weights and G_mapping_bias list.  \n",
        "\n",
        "G_mapping_weights = []\n",
        "G_mapping_weights_name = []\n",
        "G_mapping_bias = []\n",
        "G_mapping_bias_name = []"
      ],
      "execution_count": 0,
      "outputs": []
    },
    {
      "cell_type": "code",
      "metadata": {
        "id": "GaDJW928hIXb",
        "colab_type": "code",
        "outputId": "683fabe6-65d8-42d4-9550-d96420a0497d",
        "colab": {
          "base_uri": "https://localhost:8080/",
          "height": 823
        }
      },
      "source": [
        "# Storing the \n",
        "\n",
        "l = 0\n",
        "for i, j in k2.items():\n",
        "    if(l==6):\n",
        "        m = 0 \n",
        "        l1 = 0\n",
        "        for i1 in range(0, len(j)):\n",
        "            if(l1%2==0):\n",
        "                G_mapping_weights.append(j[i1][1])\n",
        "                G_mapping_weights_name.append(j[i1][0])\n",
        "                print(j[i1][0])\n",
        "                print(j[i1][1].shape)\n",
        "                print(\" \")\n",
        "            else:\n",
        "                G_mapping_bias.append(j[i1][1])\n",
        "                G_mapping_bias_name.append(j[i1][0])\n",
        "                print(j[i1][0])\n",
        "                print(j[i1][1].shape)\n",
        "                print(\" \")\n",
        "            l1 = l1 + 1\n",
        "    l = l + 1"
      ],
      "execution_count": 0,
      "outputs": [
        {
          "output_type": "stream",
          "text": [
            "Dense0/weight\n",
            "(512, 512)\n",
            " \n",
            "Dense0/bias\n",
            "(512,)\n",
            " \n",
            "Dense1/weight\n",
            "(512, 512)\n",
            " \n",
            "Dense1/bias\n",
            "(512,)\n",
            " \n",
            "Dense2/weight\n",
            "(512, 512)\n",
            " \n",
            "Dense2/bias\n",
            "(512,)\n",
            " \n",
            "Dense3/weight\n",
            "(512, 512)\n",
            " \n",
            "Dense3/bias\n",
            "(512,)\n",
            " \n",
            "Dense4/weight\n",
            "(512, 512)\n",
            " \n",
            "Dense4/bias\n",
            "(512,)\n",
            " \n",
            "Dense5/weight\n",
            "(512, 512)\n",
            " \n",
            "Dense5/bias\n",
            "(512,)\n",
            " \n",
            "Dense6/weight\n",
            "(512, 512)\n",
            " \n",
            "Dense6/bias\n",
            "(512,)\n",
            " \n",
            "Dense7/weight\n",
            "(512, 512)\n",
            " \n",
            "Dense7/bias\n",
            "(512,)\n",
            " \n"
          ],
          "name": "stdout"
        }
      ]
    },
    {
      "cell_type": "code",
      "metadata": {
        "id": "DsMKl2KThbfB",
        "colab_type": "code",
        "colab": {}
      },
      "source": [
        "#Storing the Pre-Trained weights as a Pickle File so that it may be used for validation. \n",
        "\n",
        "with open(\"G_mapping_weights.txt\", \"wb\") as fp:   #Pickling\n",
        "   pickle.dump(G_mapping_weights, fp)\n",
        "\n",
        "with open(\"G_mapping_weights_name.txt\", \"wb\") as fp:\n",
        "   pickle.dump(G_mapping_weights_name, fp)\n",
        "\n",
        "with open(\"G_mapping_bias.txt\", \"wb\") as fp:   #Pickling\n",
        "   pickle.dump(G_mapping_bias, fp)\n",
        "\n",
        "with open(\"G_mapping_bias_name.txt\", \"wb\") as fp:\n",
        "   pickle.dump(G_mapping_bias_name, fp)"
      ],
      "execution_count": 0,
      "outputs": []
    },
    {
      "cell_type": "code",
      "metadata": {
        "id": "eY3jb65HhJWL",
        "colab_type": "code",
        "colab": {}
      },
      "source": [
        "#using the same input latent_z.txt for Performing Validation of the Mapping network.\n",
        "\n",
        "with open(\"latent_z.txt\", \"rb\") as fp:   \n",
        "   latent_z = pickle.load(fp)"
      ],
      "execution_count": 0,
      "outputs": []
    },
    {
      "cell_type": "code",
      "metadata": {
        "id": "IL9Sv66VibJs",
        "colab_type": "code",
        "colab": {}
      },
      "source": [
        "# in the form of Numpy array\n",
        "\n",
        "z = latent_z[0] "
      ],
      "execution_count": 0,
      "outputs": []
    },
    {
      "cell_type": "code",
      "metadata": {
        "id": "NI-7waLlinGd",
        "colab_type": "code",
        "colab": {}
      },
      "source": [
        "output = dj1[1].run(z, None)  # latents_input = z and #labels_input = None"
      ],
      "execution_count": 0,
      "outputs": []
    },
    {
      "cell_type": "code",
      "metadata": {
        "id": "aEUGBlJ-i4qd",
        "colab_type": "code",
        "outputId": "9b179b0f-0a35-46d1-e85d-1dbde933768e",
        "colab": {
          "base_uri": "https://localhost:8080/",
          "height": 34
        }
      },
      "source": [
        "print(output.shape)"
      ],
      "execution_count": 0,
      "outputs": [
        {
          "output_type": "stream",
          "text": [
            "(1, 14, 512)\n"
          ],
          "name": "stdout"
        }
      ]
    },
    {
      "cell_type": "code",
      "metadata": {
        "id": "Ywe0qg8ki6w9",
        "colab_type": "code",
        "outputId": "791783c2-8630-4880-c515-fb71d57dd6c3",
        "colab": {
          "base_uri": "https://localhost:8080/",
          "height": 185
        }
      },
      "source": [
        "#Printing the 10 Values of the Output\n",
        "print(output[0][0][0])\n",
        "print(output[0][0][1])\n",
        "print(output[0][0][2])\n",
        "print(output[0][0][3])\n",
        "print(output[0][0][4])\n",
        "print(output[0][0][5])\n",
        "print(output[0][0][6])\n",
        "print(output[0][0][7])\n",
        "print(output[0][0][8])\n",
        "print(output[0][0][9])"
      ],
      "execution_count": 0,
      "outputs": [
        {
          "output_type": "stream",
          "text": [
            "0.005207803\n",
            "-0.16036138\n",
            "-0.017817477\n",
            "0.098088704\n",
            "-0.0349781\n",
            "0.38442597\n",
            "1.3938823\n",
            "-0.065430366\n",
            "0.04976414\n",
            "-0.07020541\n"
          ],
          "name": "stdout"
        }
      ]
    },
    {
      "cell_type": "code",
      "metadata": {
        "id": "aSygjUvPjIg9",
        "colab_type": "code",
        "outputId": "83b3775e-6291-49a3-fac2-f068c2a5c11a",
        "colab": {
          "base_uri": "https://localhost:8080/",
          "height": 235
        }
      },
      "source": [
        "#Printing the Entire ouptu:\n",
        "\n",
        "print(output)"
      ],
      "execution_count": 0,
      "outputs": [
        {
          "output_type": "stream",
          "text": [
            "[[[ 0.0052078  -0.16036138 -0.01781748 ... -0.09900351 -0.18152952\n",
            "   -0.21427059]\n",
            "  [ 0.0052078  -0.16036138 -0.01781748 ... -0.09900351 -0.18152952\n",
            "   -0.21427059]\n",
            "  [ 0.0052078  -0.16036138 -0.01781748 ... -0.09900351 -0.18152952\n",
            "   -0.21427059]\n",
            "  ...\n",
            "  [ 0.0052078  -0.16036138 -0.01781748 ... -0.09900351 -0.18152952\n",
            "   -0.21427059]\n",
            "  [ 0.0052078  -0.16036138 -0.01781748 ... -0.09900351 -0.18152952\n",
            "   -0.21427059]\n",
            "  [ 0.0052078  -0.16036138 -0.01781748 ... -0.09900351 -0.18152952\n",
            "   -0.21427059]]]\n"
          ],
          "name": "stdout"
        }
      ]
    },
    {
      "cell_type": "code",
      "metadata": {
        "id": "hxQiyx0_E5dr",
        "colab_type": "code",
        "colab": {}
      },
      "source": [
        ""
      ],
      "execution_count": 0,
      "outputs": []
    }
  ]
}