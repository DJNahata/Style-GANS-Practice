{
  "nbformat": 4,
  "nbformat_minor": 0,
  "metadata": {
    "colab": {
      "name": "G_synthesis Network Source Code .ipynb",
      "provenance": [],
      "collapsed_sections": [],
      "include_colab_link": true
    },
    "kernelspec": {
      "name": "python3",
      "display_name": "Python 3"
    },
    "accelerator": "GPU"
  },
  "cells": [
    {
      "cell_type": "markdown",
      "metadata": {
        "id": "view-in-github",
        "colab_type": "text"
      },
      "source": [
        "<a href=\"https://colab.research.google.com/github/DJNahata/Style-GANS-Practice/blob/master/G_synthesis_Network_Source_Code_.ipynb\" target=\"_parent\"><img src=\"https://colab.research.google.com/assets/colab-badge.svg\" alt=\"Open In Colab\"/></a>"
      ]
    },
    {
      "cell_type": "code",
      "metadata": {
        "id": "NRF42_kCSM3u",
        "colab_type": "code",
        "colab": {}
      },
      "source": [
        "# This is the entire source code of the G_Synthesis Network in Tensorflow. \n",
        "# To perform Validation, same input is used i.e. input1 which is stored in the pickle file (input1.txt) which is attached in the email. \n",
        "# To load the input1.txt file (Provide the Instructions)       (video)\n",
        "# To load the cats.pkl file i.e. 256 X 256 resolution files.   (video)\n",
        "\n"
      ],
      "execution_count": 0,
      "outputs": []
    },
    {
      "cell_type": "code",
      "metadata": {
        "id": "0dAYLv1ofkAy",
        "colab_type": "code",
        "colab": {}
      },
      "source": [
        "# TO RUN ANY CODE i.e. any cell, press Shift + Enter simulataneously. "
      ],
      "execution_count": 0,
      "outputs": []
    },
    {
      "cell_type": "code",
      "metadata": {
        "id": "rFI91oFMwr4U",
        "colab_type": "code",
        "outputId": "aea771ef-dff7-465e-8796-f3323752d8b4",
        "colab": {
          "base_uri": "https://localhost:8080/",
          "height": 138
        }
      },
      "source": [
        "# Using the Tensorflow version 1.x\n",
        "\n",
        "# How to import the files directly from your google drive to Colab Notebook.  (Video for this cell)\n",
        "\n",
        "%tensorflow_version 1.x\n",
        "from google.colab import drive\n",
        "drive.mount('/content/drive/', force_remount = True)"
      ],
      "execution_count": 0,
      "outputs": [
        {
          "output_type": "stream",
          "text": [
            "TensorFlow 1.x selected.\n",
            "Go to this URL in a browser: https://accounts.google.com/o/oauth2/auth?client_id=947318989803-6bn6qk8qdgf4n4g3pfee6491hc0brc4i.apps.googleusercontent.com&redirect_uri=urn%3aietf%3awg%3aoauth%3a2.0%3aoob&response_type=code&scope=email%20https%3a%2f%2fwww.googleapis.com%2fauth%2fdocs.test%20https%3a%2f%2fwww.googleapis.com%2fauth%2fdrive%20https%3a%2f%2fwww.googleapis.com%2fauth%2fdrive.photos.readonly%20https%3a%2f%2fwww.googleapis.com%2fauth%2fpeopleapi.readonly\n",
            "\n",
            "Enter your authorization code:\n",
            "··········\n",
            "Mounted at /content/drive/\n"
          ],
          "name": "stdout"
        }
      ]
    },
    {
      "cell_type": "code",
      "metadata": {
        "id": "BkFyeuz7w4nz",
        "colab_type": "code",
        "outputId": "05e3d156-ddd0-4746-a710-cbb5baccd476",
        "colab": {
          "base_uri": "https://localhost:8080/",
          "height": 84
        }
      },
      "source": [
        "# Cloning the Style-GANS\n",
        "\n",
        "!git clone https://github.com/NVlabs/stylegan.git"
      ],
      "execution_count": 0,
      "outputs": [
        {
          "output_type": "stream",
          "text": [
            "Cloning into 'stylegan'...\n",
            "remote: Enumerating objects: 83, done.\u001b[K\n",
            "remote: Total 83 (delta 0), reused 0 (delta 0), pack-reused 83\u001b[K\n",
            "Unpacking objects: 100% (83/83), done.\n"
          ],
          "name": "stdout"
        }
      ]
    },
    {
      "cell_type": "code",
      "metadata": {
        "id": "SbHOCkjrw47P",
        "colab_type": "code",
        "colab": {}
      },
      "source": [
        "import sys\n",
        "sys.path.insert(0, \"/content/stylegan/\")\n",
        "import dnnlib"
      ],
      "execution_count": 0,
      "outputs": []
    },
    {
      "cell_type": "code",
      "metadata": {
        "id": "O6Ul67I_w5DO",
        "colab_type": "code",
        "colab": {}
      },
      "source": [
        "# Using the Author's Code for extracting the Pre-Trained Styled-Generator Gs\n",
        "import os\n",
        "import pickle\n",
        "import numpy as np\n",
        "import PIL.Image\n",
        "import dnnlib\n",
        "import dnnlib.tflib as tflib\n",
        "import config\n",
        "\n",
        "def main():\n",
        "    # Initialize TensorFlow.\n",
        "    tflib.init_tf()\n",
        "    # Load pre-trained network.\n",
        "\n",
        "    url = 'https://drive.google.com/uc?id=1wThA9Mq4JBlxitoajWelV4runT58AWLM' # karras2019stylegan-cat-256x256.pkl\n",
        "    with dnnlib.util.open_url(url, cache_dir=config.cache_dir) as f:\n",
        "        _G, _D, Gs = pickle.load(f)\n",
        "        # _G = Instantaneous snapshot of the generator. Mainly useful for resuming a previous training run.\n",
        "        # _D = Instantaneous snapshot of the discriminator. Mainly useful for resuming a previous training run.\n",
        "        # Gs = Long-term average of the generator. Yields higher-quality results than the instantaneous snapshot.\n",
        "\n",
        "    a4 = Gs.__getstate__()\n",
        "    a5 = _D.__getstate__()\n",
        "    a6 = []\n",
        "    a6.append(a4)\n",
        "    a6.append(Gs)\n",
        "    \n",
        "    rnd = np.random.RandomState(5)\n",
        "    latents = rnd.randn(1, Gs.input_shape[1])\n",
        "\n",
        "\n",
        "    fmt = dict(func=tflib.convert_images_to_uint8, nchw_to_nhwc=True)\n",
        "    images = Gs.run(latents, None, truncation_psi=0.7, randomize_noise=True, output_transform=fmt)\n",
        "\n",
        "    # Save image.\n",
        "    os.makedirs(config.result_dir, exist_ok=True)\n",
        "    png_filename = os.path.join(config.result_dir, 'example.png')\n",
        "    PIL.Image.fromarray(images[0], 'RGB').save(png_filename)\n",
        "    return a6\n",
        "\n",
        "if __name__ == \"__main__\":\n",
        "    a11 = main()"
      ],
      "execution_count": 0,
      "outputs": []
    },
    {
      "cell_type": "code",
      "metadata": {
        "id": "2DePOJJJxMwB",
        "colab_type": "code",
        "colab": {}
      },
      "source": [
        "# Storing the Styled-Generator states in a1..\n",
        "a1 = a11[0]"
      ],
      "execution_count": 0,
      "outputs": []
    },
    {
      "cell_type": "code",
      "metadata": {
        "id": "QHvbrlDAxNMf",
        "colab_type": "code",
        "colab": {}
      },
      "source": [
        "# Using the Same Input for both the Networks i.e. input1.txt  (Video for this cell)\n",
        "import pickle\n",
        "with open(\"input1.txt\", \"rb\") as fp:   \n",
        "   input1 = pickle.load(fp)"
      ],
      "execution_count": 0,
      "outputs": []
    },
    {
      "cell_type": "code",
      "metadata": {
        "id": "6g0hNgUoxNP6",
        "colab_type": "code",
        "outputId": "872a9c1c-990e-494d-8f27-e0f9638291c8",
        "colab": {
          "base_uri": "https://localhost:8080/",
          "height": 34
        }
      },
      "source": [
        "print(input1[0].shape)"
      ],
      "execution_count": 0,
      "outputs": [
        {
          "output_type": "stream",
          "text": [
            "(1, 14, 512)\n"
          ],
          "name": "stdout"
        }
      ]
    },
    {
      "cell_type": "code",
      "metadata": {
        "id": "x7mWEdXPxNTt",
        "colab_type": "code",
        "outputId": "50dd46ea-6ef4-45e6-9c5b-17ac22e678c6",
        "colab": {
          "base_uri": "https://localhost:8080/",
          "height": 84
        }
      },
      "source": [
        "print(input1[0][0][0][0])\n",
        "print(input1[0][0][0][1])\n",
        "print(input1[0][0][0][2])\n",
        "print(input1[0][0][0][3])"
      ],
      "execution_count": 0,
      "outputs": [
        {
          "output_type": "stream",
          "text": [
            "0.8312799770878936\n",
            "0.2854585850644782\n",
            "0.9196951954931134\n",
            "0.8687710488914114\n"
          ],
          "name": "stdout"
        }
      ]
    },
    {
      "cell_type": "code",
      "metadata": {
        "id": "G15xGUnExe3B",
        "colab_type": "code",
        "outputId": "d8b2c3d6-0243-4d4c-d63e-3f2aac35632f",
        "colab": {
          "base_uri": "https://localhost:8080/",
          "height": 34
        }
      },
      "source": [
        "# Components here is the list which contains the Synthesis as well as the Mapping Network which are stored in the G_style Network. \n",
        "components = []\n",
        "\n",
        "l = 0\n",
        "for i, j in a1.items():\n",
        "  if(l==3):\n",
        "    print(j)\n",
        "    for i1, j1 in j.items():\n",
        "      components.append(j1)\n",
        "  l = l + 1"
      ],
      "execution_count": 0,
      "outputs": [
        {
          "output_type": "stream",
          "text": [
            "{'synthesis': <dnnlib.tflib.network.Network object at 0x7fcefd398f60>, 'mapping': <dnnlib.tflib.network.Network object at 0x7fcefd027898>}\n"
          ],
          "name": "stdout"
        }
      ]
    },
    {
      "cell_type": "code",
      "metadata": {
        "id": "MsfEQw20xnel",
        "colab_type": "code",
        "outputId": "57d8ec34-9352-4aa3-c8d8-a7a5cbefd97a",
        "colab": {
          "base_uri": "https://localhost:8080/",
          "height": 84
        }
      },
      "source": [
        "l = 0\n",
        "for i in components:\n",
        "    if(l==0): \n",
        "        k1 = i.__getstate__()      # k1 is the state for extracting the states of the Synthesis Network\n",
        "    if(l==1):\n",
        "        k2 = i.__getstate__()      # k2 is the state for extracting the states of the Mapping Network\n",
        "    print(\" \")\n",
        "    print(\"DJ\")\n",
        "    l = l + 1"
      ],
      "execution_count": 0,
      "outputs": [
        {
          "output_type": "stream",
          "text": [
            " \n",
            "DJ\n",
            " \n",
            "DJ\n"
          ],
          "name": "stdout"
        }
      ]
    },
    {
      "cell_type": "code",
      "metadata": {
        "id": "YJ4u2w2ByIOw",
        "colab_type": "code",
        "colab": {}
      },
      "source": [
        "# Storing the Pre-Trained weights in the form of list \n",
        "\n",
        "noise = []\n",
        "const = []\n",
        "initial_conv_weights1 = []\n",
        "initial_conv_weights2 = []\n",
        "initial_conv_weights3 = []\n",
        "initial_conv_weights4 = []\n",
        "initial_conv_weights5 = []\n",
        "initial_conv_weights6 = []\n",
        "initial_conv_weights7 = []"
      ],
      "execution_count": 0,
      "outputs": []
    },
    {
      "cell_type": "code",
      "metadata": {
        "id": "lVWgsbNxx5ew",
        "colab_type": "code",
        "outputId": "ecb822d9-cf69-4ec6-9a5a-d12aaf428268",
        "colab": {
          "base_uri": "https://localhost:8080/",
          "height": 286
        }
      },
      "source": [
        "# Extracting the Pre-Trained Noise Weights\n",
        "\n",
        "l = 0\n",
        "for i, j in k1.items():\n",
        "    if(l==6):\n",
        "        print(\" \")\n",
        "        l1 = 0\n",
        "        for i1 in range(1, 15):\n",
        "            print(j[i1][0])\n",
        "            noise.append(j[i1][1])\n",
        "            l1 = l1 + 1\n",
        "        print(\"value of l1 is: \", l1)\n",
        "    l = l + 1"
      ],
      "execution_count": 0,
      "outputs": [
        {
          "output_type": "stream",
          "text": [
            " \n",
            "noise0\n",
            "noise1\n",
            "noise2\n",
            "noise3\n",
            "noise4\n",
            "noise5\n",
            "noise6\n",
            "noise7\n",
            "noise8\n",
            "noise9\n",
            "noise10\n",
            "noise11\n",
            "noise12\n",
            "noise13\n",
            "value of l1 is:  14\n"
          ],
          "name": "stdout"
        }
      ]
    },
    {
      "cell_type": "code",
      "metadata": {
        "id": "AcN1vAcdx5lh",
        "colab_type": "code",
        "outputId": "617a46b7-fd19-4fd8-ca10-36e008bd188e",
        "colab": {
          "base_uri": "https://localhost:8080/",
          "height": 134
        }
      },
      "source": [
        "# Extracting the Constant Parameters.\n",
        "\n",
        "l = 0\n",
        "for i, j in k1.items():\n",
        "    if(l==6):\n",
        "        print(\" \")\n",
        "        l1 = 0\n",
        "        for i1 in range(15, 20):\n",
        "            print(j[i1][0])\n",
        "            const.append(j[i1][1])\n",
        "            l1 = l1 + 1\n",
        "        print(\"value of l1 is: \", l1)\n",
        "    l = l + 1"
      ],
      "execution_count": 0,
      "outputs": [
        {
          "output_type": "stream",
          "text": [
            " \n",
            "4x4/Const/const\n",
            "4x4/Const/Noise/weight\n",
            "4x4/Const/bias\n",
            "4x4/Const/StyleMod/weight\n",
            "4x4/Const/StyleMod/bias\n",
            "value of l1 is:  5\n"
          ],
          "name": "stdout"
        }
      ]
    },
    {
      "cell_type": "code",
      "metadata": {
        "id": "rwa2C2SbxtSk",
        "colab_type": "code",
        "outputId": "ee37c534-6705-4a44-aa84-0cc5b677a216",
        "colab": {
          "base_uri": "https://localhost:8080/",
          "height": 168
        }
      },
      "source": [
        "l = 0\n",
        "for i, j in k1.items():\n",
        "    if(l==6):\n",
        "        print(\" \")\n",
        "        l1 = 0\n",
        "        for i1 in range(20, 27):\n",
        "            print(j[i1][0])\n",
        "            initial_conv_weights1.append(j[i1][1])\n",
        "            l1 = l1 + 1\n",
        "        print(\"value of l1 is: \", l1)\n",
        "    l = l + 1"
      ],
      "execution_count": 0,
      "outputs": [
        {
          "output_type": "stream",
          "text": [
            " \n",
            "4x4/Conv/weight\n",
            "4x4/Conv/Noise/weight\n",
            "4x4/Conv/bias\n",
            "4x4/Conv/StyleMod/weight\n",
            "4x4/Conv/StyleMod/bias\n",
            "ToRGB_lod6/weight\n",
            "ToRGB_lod6/bias\n",
            "value of l1 is:  7\n"
          ],
          "name": "stdout"
        }
      ]
    },
    {
      "cell_type": "code",
      "metadata": {
        "id": "T0FZPt2RyyRe",
        "colab_type": "code",
        "outputId": "af8ce883-1af8-415a-acc5-7d4ba66ba105",
        "colab": {
          "base_uri": "https://localhost:8080/",
          "height": 252
        }
      },
      "source": [
        "l = 0\n",
        "for i, j in k1.items():\n",
        "    if(l==6):\n",
        "        print(\" \")\n",
        "        l1 = 0\n",
        "        for i1 in range(27, 39):\n",
        "            print(j[i1][0])\n",
        "            initial_conv_weights2.append(j[i1][1])\n",
        "            l1 = l1 + 1\n",
        "        print(\"value of l1 is: \", l1)\n",
        "    l = l + 1"
      ],
      "execution_count": 0,
      "outputs": [
        {
          "output_type": "stream",
          "text": [
            " \n",
            "8x8/Conv0_up/weight\n",
            "8x8/Conv0_up/Noise/weight\n",
            "8x8/Conv0_up/bias\n",
            "8x8/Conv0_up/StyleMod/weight\n",
            "8x8/Conv0_up/StyleMod/bias\n",
            "8x8/Conv1/weight\n",
            "8x8/Conv1/Noise/weight\n",
            "8x8/Conv1/bias\n",
            "8x8/Conv1/StyleMod/weight\n",
            "8x8/Conv1/StyleMod/bias\n",
            "ToRGB_lod5/weight\n",
            "ToRGB_lod5/bias\n",
            "value of l1 is:  12\n"
          ],
          "name": "stdout"
        }
      ]
    },
    {
      "cell_type": "code",
      "metadata": {
        "id": "7fQnzm8ny3LF",
        "colab_type": "code",
        "outputId": "beb37cda-f913-4744-ce9a-63df521a18f2",
        "colab": {
          "base_uri": "https://localhost:8080/",
          "height": 252
        }
      },
      "source": [
        "l = 0\n",
        "for i, j in k1.items():\n",
        "    if(l==6):\n",
        "        print(\" \")\n",
        "        l1 = 0\n",
        "        for i1 in range(39, 51):\n",
        "            print(j[i1][0])\n",
        "            initial_conv_weights3.append(j[i1][1])\n",
        "            l1 = l1 + 1\n",
        "        print(\"value of l1 is: \", l1)\n",
        "    l = l + 1"
      ],
      "execution_count": 0,
      "outputs": [
        {
          "output_type": "stream",
          "text": [
            " \n",
            "16x16/Conv0_up/weight\n",
            "16x16/Conv0_up/Noise/weight\n",
            "16x16/Conv0_up/bias\n",
            "16x16/Conv0_up/StyleMod/weight\n",
            "16x16/Conv0_up/StyleMod/bias\n",
            "16x16/Conv1/weight\n",
            "16x16/Conv1/Noise/weight\n",
            "16x16/Conv1/bias\n",
            "16x16/Conv1/StyleMod/weight\n",
            "16x16/Conv1/StyleMod/bias\n",
            "ToRGB_lod4/weight\n",
            "ToRGB_lod4/bias\n",
            "value of l1 is:  12\n"
          ],
          "name": "stdout"
        }
      ]
    },
    {
      "cell_type": "code",
      "metadata": {
        "id": "lGgcgN3Ty9be",
        "colab_type": "code",
        "outputId": "dabc2110-c0e9-4813-c493-91d8dfb7e7de",
        "colab": {
          "base_uri": "https://localhost:8080/",
          "height": 252
        }
      },
      "source": [
        "l = 0\n",
        "for i, j in k1.items():\n",
        "    if(l==6):\n",
        "        print(\" \")\n",
        "        l1 = 0\n",
        "        for i1 in range(51, 63):\n",
        "            print(j[i1][0])\n",
        "            initial_conv_weights4.append(j[i1][1])\n",
        "            l1 = l1 + 1\n",
        "        print(\"value of l1 is: \", l1)\n",
        "    l = l + 1"
      ],
      "execution_count": 0,
      "outputs": [
        {
          "output_type": "stream",
          "text": [
            " \n",
            "32x32/Conv0_up/weight\n",
            "32x32/Conv0_up/Noise/weight\n",
            "32x32/Conv0_up/bias\n",
            "32x32/Conv0_up/StyleMod/weight\n",
            "32x32/Conv0_up/StyleMod/bias\n",
            "32x32/Conv1/weight\n",
            "32x32/Conv1/Noise/weight\n",
            "32x32/Conv1/bias\n",
            "32x32/Conv1/StyleMod/weight\n",
            "32x32/Conv1/StyleMod/bias\n",
            "ToRGB_lod3/weight\n",
            "ToRGB_lod3/bias\n",
            "value of l1 is:  12\n"
          ],
          "name": "stdout"
        }
      ]
    },
    {
      "cell_type": "code",
      "metadata": {
        "id": "tt2HFEuDzDNm",
        "colab_type": "code",
        "outputId": "6acdbe8f-d085-4534-dba3-cb8fc1affd70",
        "colab": {
          "base_uri": "https://localhost:8080/",
          "height": 252
        }
      },
      "source": [
        "l = 0\n",
        "for i, j in k1.items():\n",
        "    if(l==6):\n",
        "        print(\" \")\n",
        "        l1 = 0\n",
        "        for i1 in range(63, 75):\n",
        "            print(j[i1][0])\n",
        "            initial_conv_weights5.append(j[i1][1])\n",
        "            l1 = l1 + 1\n",
        "        print(\"value of l1 is: \", l1)\n",
        "    l = l + 1"
      ],
      "execution_count": 0,
      "outputs": [
        {
          "output_type": "stream",
          "text": [
            " \n",
            "64x64/Conv0_up/weight\n",
            "64x64/Conv0_up/Noise/weight\n",
            "64x64/Conv0_up/bias\n",
            "64x64/Conv0_up/StyleMod/weight\n",
            "64x64/Conv0_up/StyleMod/bias\n",
            "64x64/Conv1/weight\n",
            "64x64/Conv1/Noise/weight\n",
            "64x64/Conv1/bias\n",
            "64x64/Conv1/StyleMod/weight\n",
            "64x64/Conv1/StyleMod/bias\n",
            "ToRGB_lod2/weight\n",
            "ToRGB_lod2/bias\n",
            "value of l1 is:  12\n"
          ],
          "name": "stdout"
        }
      ]
    },
    {
      "cell_type": "code",
      "metadata": {
        "id": "pK4jpZF2zIRe",
        "colab_type": "code",
        "outputId": "264fef4b-a603-4df5-871d-f83fa859e5bf",
        "colab": {
          "base_uri": "https://localhost:8080/",
          "height": 252
        }
      },
      "source": [
        "l = 0\n",
        "for i, j in k1.items():\n",
        "    if(l==6):\n",
        "        print(\" \")\n",
        "        l1 = 0\n",
        "        for i1 in range(75, 87):\n",
        "            print(j[i1][0])\n",
        "            initial_conv_weights6.append(j[i1][1])\n",
        "            l1 = l1 + 1\n",
        "        print(\"value of l1 is: \", l1)\n",
        "    l = l + 1"
      ],
      "execution_count": 0,
      "outputs": [
        {
          "output_type": "stream",
          "text": [
            " \n",
            "128x128/Conv0_up/weight\n",
            "128x128/Conv0_up/Noise/weight\n",
            "128x128/Conv0_up/bias\n",
            "128x128/Conv0_up/StyleMod/weight\n",
            "128x128/Conv0_up/StyleMod/bias\n",
            "128x128/Conv1/weight\n",
            "128x128/Conv1/Noise/weight\n",
            "128x128/Conv1/bias\n",
            "128x128/Conv1/StyleMod/weight\n",
            "128x128/Conv1/StyleMod/bias\n",
            "ToRGB_lod1/weight\n",
            "ToRGB_lod1/bias\n",
            "value of l1 is:  12\n"
          ],
          "name": "stdout"
        }
      ]
    },
    {
      "cell_type": "code",
      "metadata": {
        "id": "iMu8yHEPzNWV",
        "colab_type": "code",
        "outputId": "8c611e66-2234-4a81-8044-5ae1cf39cfac",
        "colab": {
          "base_uri": "https://localhost:8080/",
          "height": 252
        }
      },
      "source": [
        "l = 0\n",
        "for i, j in k1.items():\n",
        "    if(l==6):\n",
        "        print(\" \")\n",
        "        l1 = 0\n",
        "        for i1 in range(87, 99):\n",
        "            print(j[i1][0])\n",
        "            initial_conv_weights7.append(j[i1][1])\n",
        "            l1 = l1 + 1\n",
        "        print(\"value of l1 is: \", l1)\n",
        "    l = l + 1"
      ],
      "execution_count": 0,
      "outputs": [
        {
          "output_type": "stream",
          "text": [
            " \n",
            "256x256/Conv0_up/weight\n",
            "256x256/Conv0_up/Noise/weight\n",
            "256x256/Conv0_up/bias\n",
            "256x256/Conv0_up/StyleMod/weight\n",
            "256x256/Conv0_up/StyleMod/bias\n",
            "256x256/Conv1/weight\n",
            "256x256/Conv1/Noise/weight\n",
            "256x256/Conv1/bias\n",
            "256x256/Conv1/StyleMod/weight\n",
            "256x256/Conv1/StyleMod/bias\n",
            "ToRGB_lod0/weight\n",
            "ToRGB_lod0/bias\n",
            "value of l1 is:  12\n"
          ],
          "name": "stdout"
        }
      ]
    },
    {
      "cell_type": "code",
      "metadata": {
        "id": "NBqfOJVOzUDW",
        "colab_type": "code",
        "outputId": "21db97c4-9c10-43b3-fd25-7e6fa1838ee5",
        "colab": {
          "base_uri": "https://localhost:8080/",
          "height": 168
        }
      },
      "source": [
        "# Printing the Length of the Lists, i.e. length of each of the stored pre-trained weights. \n",
        "\n",
        "print(len(noise))\n",
        "print(len(const))\n",
        "print(len(initial_conv_weights1))\n",
        "print(len(initial_conv_weights2))\n",
        "print(len(initial_conv_weights3))\n",
        "print(len(initial_conv_weights4))\n",
        "print(len(initial_conv_weights5))\n",
        "print(len(initial_conv_weights6))\n",
        "print(len(initial_conv_weights7))\n"
      ],
      "execution_count": 0,
      "outputs": [
        {
          "output_type": "stream",
          "text": [
            "14\n",
            "5\n",
            "7\n",
            "12\n",
            "12\n",
            "12\n",
            "12\n",
            "12\n",
            "12\n"
          ],
          "name": "stdout"
        }
      ]
    },
    {
      "cell_type": "code",
      "metadata": {
        "id": "hWA0mbrVzhHe",
        "colab_type": "code",
        "colab": {}
      },
      "source": [
        "# Storing the Pre-Trained Weights in the form of Pickle file so that it may be loaded in the Nnabla network.\n",
        "\n",
        "with open(\"noise.txt\", \"wb\") as fp:   \n",
        "   pickle.dump(noise, fp)\n",
        "\n",
        "with open(\"const.txt\", \"wb\") as fp:   \n",
        "   pickle.dump(const, fp)\n",
        "\n",
        "with open(\"initial_conv_weights1.txt\", \"wb\") as fp:   \n",
        "   pickle.dump(initial_conv_weights1, fp)\n",
        "\n",
        "with open(\"initial_conv_weights2.txt\", \"wb\") as fp:   \n",
        "   pickle.dump(initial_conv_weights2, fp)\n",
        "\n",
        "with open(\"initial_conv_weights3.txt\", \"wb\") as fp:   \n",
        "   pickle.dump(initial_conv_weights3, fp)\n",
        "\n",
        "with open(\"initial_conv_weights4.txt\", \"wb\") as fp:   \n",
        "   pickle.dump(initial_conv_weights4, fp)\n",
        "\n",
        "with open(\"initial_conv_weights5.txt\", \"wb\") as fp:   \n",
        "   pickle.dump(initial_conv_weights5, fp)\n",
        "\n",
        "with open(\"initial_conv_weights6.txt\", \"wb\") as fp:   \n",
        "   pickle.dump(initial_conv_weights6, fp)\n",
        "\n",
        "with open(\"initial_conv_weights7.txt\", \"wb\") as fp:   \n",
        "   pickle.dump(initial_conv_weights7, fp)"
      ],
      "execution_count": 0,
      "outputs": []
    },
    {
      "cell_type": "code",
      "metadata": {
        "id": "IAdEfMMn0JAz",
        "colab_type": "code",
        "colab": {}
      },
      "source": [
        "# use_wscale and fused_scale function is still remaining which needs to be refined again i.e. their values is assigned to \"False\"\n",
        "\n",
        "d2 = components[0].run(input1[0], num_channels =3, resolution = 256, randomize_noise = False, use_wscale = False, fused_scale = False, structure = 'linear')"
      ],
      "execution_count": 0,
      "outputs": []
    },
    {
      "cell_type": "code",
      "metadata": {
        "id": "-ditMEWq0yFL",
        "colab_type": "code",
        "outputId": "7a7c3858-bd7c-4fd4-cce8-4a226b99be74",
        "colab": {
          "base_uri": "https://localhost:8080/",
          "height": 34
        }
      },
      "source": [
        "# Output shape of d2 is: \n",
        "\n",
        "print(d2.shape)"
      ],
      "execution_count": 0,
      "outputs": [
        {
          "output_type": "stream",
          "text": [
            "(1, 3, 256, 256)\n"
          ],
          "name": "stdout"
        }
      ]
    },
    {
      "cell_type": "code",
      "metadata": {
        "id": "au1P2Tfb0ocj",
        "colab_type": "code",
        "outputId": "b0da5067-6fba-4593-d2d3-c40dc61161cf",
        "colab": {
          "base_uri": "https://localhost:8080/",
          "height": 252
        }
      },
      "source": [
        "# Initial Outputs \n",
        "\n",
        "print(d2[0][0][0][0])\n",
        "print(d2[0][0][0][1])\n",
        "print(d2[0][0][0][2])\n",
        "print(d2[0][0][0][3])\n",
        "print()\n",
        "print(d2[0][0][1][0])\n",
        "print(d2[0][0][1][1])\n",
        "print(d2[0][0][1][2])\n",
        "print(d2[0][0][1][3])\n",
        "print()\n",
        "print(d2[0][0][2][0])\n",
        "print(d2[0][0][2][1])\n",
        "print(d2[0][0][2][2])\n",
        "print(d2[0][0][2][3])\n",
        "\n"
      ],
      "execution_count": 0,
      "outputs": [
        {
          "output_type": "stream",
          "text": [
            "11.21499\n",
            "-12.608821\n",
            "-23.258158\n",
            "-49.75914\n",
            "\n",
            "22.24689\n",
            "0.50075686\n",
            "-3.6947584\n",
            "-40.752045\n",
            "\n",
            "55.498894\n",
            "43.977573\n",
            "13.626012\n",
            "-38.805622\n"
          ],
          "name": "stdout"
        }
      ]
    },
    {
      "cell_type": "code",
      "metadata": {
        "id": "foKZk_kB0u4L",
        "colab_type": "code",
        "outputId": "28466ab6-6864-463c-ccdb-1cc814058590",
        "colab": {
          "base_uri": "https://localhost:8080/",
          "height": 706
        }
      },
      "source": [
        "# Entire Output: \n",
        "\n",
        "print(d2)"
      ],
      "execution_count": 0,
      "outputs": [
        {
          "output_type": "stream",
          "text": [
            "[[[[ 1.12149897e+01 -1.26088209e+01 -2.32581577e+01 ...  1.06867462e+02\n",
            "     7.76742706e+01  3.43052902e+01]\n",
            "   [ 2.22468891e+01  5.00756860e-01 -3.69475842e+00 ...  1.77654678e+02\n",
            "     1.37520004e+02  4.82231255e+01]\n",
            "   [ 5.54988937e+01  4.39775734e+01  1.36260118e+01 ...  1.62914398e+02\n",
            "     1.57167587e+02  8.39398346e+01]\n",
            "   ...\n",
            "   [ 4.36372604e+01  6.75753174e+01  2.07850132e+01 ... -1.19093803e+02\n",
            "    -1.15214218e+02 -1.01103516e+02]\n",
            "   [ 1.91871681e+01  4.95330505e+01  4.82501678e+01 ... -1.17203400e+02\n",
            "    -1.32540146e+02 -1.13222237e+02]\n",
            "   [ 5.55107784e+00  3.08214073e+01  4.63839226e+01 ... -1.45084427e+02\n",
            "    -1.49820190e+02 -9.18434753e+01]]\n",
            "\n",
            "  [[-5.28248901e+01 -8.65904846e+01 -8.80171127e+01 ... -3.66211724e+00\n",
            "    -3.00696354e+01 -4.28524323e+01]\n",
            "   [-4.97587204e+01 -7.17594910e+01 -6.79167557e+01 ...  2.75075436e+01\n",
            "     1.57569323e+01 -2.65960808e+01]\n",
            "   [-1.87802944e+01 -2.57672539e+01 -6.90390930e+01 ...  8.95463562e+00\n",
            "     2.10464954e+01  5.62034702e+00]\n",
            "   ...\n",
            "   [ 1.60542297e+02  2.96271301e+02  2.52316849e+02 ... -1.20134476e+02\n",
            "    -1.05394554e+02 -1.15921715e+02]\n",
            "   [ 1.20154778e+02  2.30599792e+02  2.55821426e+02 ... -9.13969955e+01\n",
            "    -1.10822334e+02 -1.21199432e+02]\n",
            "   [ 4.61157150e+01  1.14317940e+02  1.51221741e+02 ... -1.48825546e+02\n",
            "    -1.52786896e+02 -1.03648880e+02]]\n",
            "\n",
            "  [[-9.89135742e+01 -1.32320450e+02 -1.27267654e+02 ... -8.93832245e+01\n",
            "    -9.04180374e+01 -9.91314545e+01]\n",
            "   [-9.75770493e+01 -1.11994240e+02 -1.03605453e+02 ... -1.11267372e+02\n",
            "    -9.42335129e+01 -7.72967072e+01]\n",
            "   [-6.37883034e+01 -5.74685974e+01 -1.10963196e+02 ... -1.40063110e+02\n",
            "    -1.14636803e+02 -7.37124405e+01]\n",
            "   ...\n",
            "   [ 3.43293549e+02  6.42489868e+02  6.83226196e+02 ... -4.84608154e+01\n",
            "    -5.24713936e+01 -7.50531235e+01]\n",
            "   [ 2.65726166e+02  4.96046967e+02  6.00580627e+02 ... -3.17488270e+01\n",
            "    -6.58517151e+01 -8.59136429e+01]\n",
            "   [ 1.15537956e+02  2.51748474e+02  3.38154755e+02 ... -8.47262421e+01\n",
            "    -1.06719818e+02 -1.01296478e+02]]]]\n"
          ],
          "name": "stdout"
        }
      ]
    },
    {
      "cell_type": "code",
      "metadata": {
        "id": "CYOAgC6RSH6j",
        "colab_type": "code",
        "colab": {}
      },
      "source": [
        ""
      ],
      "execution_count": 0,
      "outputs": []
    }
  ]
}